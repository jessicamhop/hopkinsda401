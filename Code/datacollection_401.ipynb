{
 "cells": [
  {
   "cell_type": "code",
   "execution_count": 2,
   "metadata": {},
   "outputs": [],
   "source": [
    "import pandas as pd \n",
    "import csv\n",
    "import mysql.connector"
   ]
  },
  {
   "cell_type": "code",
   "execution_count": 10,
   "metadata": {},
   "outputs": [
    {
     "name": "stdout",
     "output_type": "stream",
     "text": [
      "<mysql.connector.connection.MySQLConnection object at 0x7fbcb0d36a60>\n"
     ]
    }
   ],
   "source": [
    "# connecting to mySQL\n",
    "mydb = mysql.connector.connect(\n",
    "    host = \"localhost\",\n",
    "    database = \"mydatabase\",\n",
    "    user = \"root\",\n",
    "    password = \"LasVegas1!\"\n",
    ")\n",
    "\n",
    "print(mydb)"
   ]
  },
  {
   "cell_type": "code",
   "execution_count": 47,
   "metadata": {},
   "outputs": [],
   "source": [
    "# creating the database\n",
    "#mycursor = mydb.cursor()\n",
    "#mycursor.execute(\"CREATE DATABASE mydatabase\")"
   ]
  },
  {
   "cell_type": "code",
   "execution_count": 48,
   "metadata": {},
   "outputs": [
    {
     "name": "stdout",
     "output_type": "stream",
     "text": [
      "('information_schema',)\n",
      "('mydatabase',)\n",
      "('mysql',)\n",
      "('performance_schema',)\n",
      "('sys',)\n"
     ]
    },
    {
     "data": {
      "text/plain": [
       "True"
      ]
     },
     "execution_count": 48,
     "metadata": {},
     "output_type": "execute_result"
    }
   ],
   "source": [
    "# making sure db exists\n",
    "cursor = mydb.cursor()\n",
    "cursor.execute(\"SHOW DATABASES\")\n",
    "for x in cursor:\n",
    "  print(x)\n",
    "cursor.close()"
   ]
  },
  {
   "cell_type": "code",
   "execution_count": 5,
   "metadata": {},
   "outputs": [],
   "source": [
    "# importing monthly flight data from BTS\n",
    "mar20 = pd.read_csv('03_2020.csv')\n",
    "apr20 = pd.read_csv('04_2020.csv')\n",
    "may20 = pd.read_csv('05_2020.csv')\n",
    "jun20 = pd.read_csv('06_2020.csv')\n",
    "jul20 = pd.read_csv('07_2020.csv')\n",
    "aug20 = pd.read_csv('08_2020.csv')\n",
    "sep20 = pd.read_csv('09_2020.csv')\n",
    "oct20 = pd.read_csv('10_2020.csv')\n",
    "nov20 = pd.read_csv('11_2020.csv')\n",
    "dec20 = pd.read_csv('12_2020.csv')\n",
    "jan21 = pd.read_csv('01_2021.csv')\n",
    "feb21 = pd.read_csv('02_2021.csv')\n",
    "mar21 = pd.read_csv('03_2021.csv')\n",
    "apr21 = pd.read_csv('04_2021.csv')\n",
    "may21 = pd.read_csv('05_2021.csv')\n",
    "jun21 = pd.read_csv('06_2021.csv')\n",
    "jul21 = pd.read_csv('07_2021.csv')\n",
    "\n",
    "flightsdfs = [mar20, apr20, may20, jun20, \n",
    "              jul20, aug20, sep20, oct20, \n",
    "              nov20, dec20, jan21, feb21, \n",
    "              mar21, apr21, may21, jun21, jul21]"
   ]
  },
  {
   "cell_type": "code",
   "execution_count": 6,
   "metadata": {},
   "outputs": [],
   "source": [
    "# making a single df \n",
    "flightsdata = pd.concat([mar20, apr20, may20, jun20, \n",
    "              jul20, aug20, sep20, oct20, \n",
    "              nov20, dec20, jan21, feb21, \n",
    "              mar21, apr21, may21, jun21, jul21], join = \"inner\")\n",
    "\n",
    "flightsdata = flightsdata.drop(flightsdata.columns[[16]], axis = 1)\n",
    "flightsdata = flightsdata.where((pd.notnull(flightsdata)), None)"
   ]
  },
  {
   "cell_type": "code",
   "execution_count": 7,
   "metadata": {},
   "outputs": [
    {
     "data": {
      "text/html": [
       "<div>\n",
       "<style scoped>\n",
       "    .dataframe tbody tr th:only-of-type {\n",
       "        vertical-align: middle;\n",
       "    }\n",
       "\n",
       "    .dataframe tbody tr th {\n",
       "        vertical-align: top;\n",
       "    }\n",
       "\n",
       "    .dataframe thead th {\n",
       "        text-align: right;\n",
       "    }\n",
       "</style>\n",
       "<table border=\"1\" class=\"dataframe\">\n",
       "  <thead>\n",
       "    <tr style=\"text-align: right;\">\n",
       "      <th></th>\n",
       "      <th>YEAR</th>\n",
       "      <th>MONTH</th>\n",
       "      <th>DAY_OF_MONTH</th>\n",
       "      <th>DAY_OF_WEEK</th>\n",
       "      <th>FL_DATE</th>\n",
       "      <th>OP_UNIQUE_CARRIER</th>\n",
       "      <th>OP_CARRIER_FL_NUM</th>\n",
       "      <th>ORIGIN_AIRPORT_ID</th>\n",
       "      <th>ORIGIN_CITY_MARKET_ID</th>\n",
       "      <th>ORIGIN_STATE_ABR</th>\n",
       "      <th>DEST_AIRPORT_ID</th>\n",
       "      <th>DEST_CITY_MARKET_ID</th>\n",
       "      <th>DEST_STATE_ABR</th>\n",
       "      <th>DEP_TIME</th>\n",
       "      <th>CANCELLED</th>\n",
       "      <th>CANCELLATION_CODE</th>\n",
       "    </tr>\n",
       "  </thead>\n",
       "  <tbody>\n",
       "    <tr>\n",
       "      <th>0</th>\n",
       "      <td>2020</td>\n",
       "      <td>3</td>\n",
       "      <td>16</td>\n",
       "      <td>1</td>\n",
       "      <td>2020-03-16</td>\n",
       "      <td>AA</td>\n",
       "      <td>8</td>\n",
       "      <td>12173</td>\n",
       "      <td>32134</td>\n",
       "      <td>HI</td>\n",
       "      <td>11298</td>\n",
       "      <td>30194</td>\n",
       "      <td>TX</td>\n",
       "      <td>1757.0</td>\n",
       "      <td>0</td>\n",
       "      <td>None</td>\n",
       "    </tr>\n",
       "    <tr>\n",
       "      <th>1</th>\n",
       "      <td>2020</td>\n",
       "      <td>3</td>\n",
       "      <td>17</td>\n",
       "      <td>2</td>\n",
       "      <td>2020-03-17</td>\n",
       "      <td>AA</td>\n",
       "      <td>8</td>\n",
       "      <td>12173</td>\n",
       "      <td>32134</td>\n",
       "      <td>HI</td>\n",
       "      <td>11298</td>\n",
       "      <td>30194</td>\n",
       "      <td>TX</td>\n",
       "      <td>1800.0</td>\n",
       "      <td>0</td>\n",
       "      <td>None</td>\n",
       "    </tr>\n",
       "    <tr>\n",
       "      <th>2</th>\n",
       "      <td>2020</td>\n",
       "      <td>3</td>\n",
       "      <td>18</td>\n",
       "      <td>3</td>\n",
       "      <td>2020-03-18</td>\n",
       "      <td>AA</td>\n",
       "      <td>8</td>\n",
       "      <td>12173</td>\n",
       "      <td>32134</td>\n",
       "      <td>HI</td>\n",
       "      <td>11298</td>\n",
       "      <td>30194</td>\n",
       "      <td>TX</td>\n",
       "      <td>1759.0</td>\n",
       "      <td>0</td>\n",
       "      <td>None</td>\n",
       "    </tr>\n",
       "    <tr>\n",
       "      <th>3</th>\n",
       "      <td>2020</td>\n",
       "      <td>3</td>\n",
       "      <td>19</td>\n",
       "      <td>4</td>\n",
       "      <td>2020-03-19</td>\n",
       "      <td>AA</td>\n",
       "      <td>8</td>\n",
       "      <td>12173</td>\n",
       "      <td>32134</td>\n",
       "      <td>HI</td>\n",
       "      <td>11298</td>\n",
       "      <td>30194</td>\n",
       "      <td>TX</td>\n",
       "      <td>1759.0</td>\n",
       "      <td>0</td>\n",
       "      <td>None</td>\n",
       "    </tr>\n",
       "    <tr>\n",
       "      <th>4</th>\n",
       "      <td>2020</td>\n",
       "      <td>3</td>\n",
       "      <td>20</td>\n",
       "      <td>5</td>\n",
       "      <td>2020-03-20</td>\n",
       "      <td>AA</td>\n",
       "      <td>8</td>\n",
       "      <td>12173</td>\n",
       "      <td>32134</td>\n",
       "      <td>HI</td>\n",
       "      <td>11298</td>\n",
       "      <td>30194</td>\n",
       "      <td>TX</td>\n",
       "      <td>1833.0</td>\n",
       "      <td>0</td>\n",
       "      <td>None</td>\n",
       "    </tr>\n",
       "  </tbody>\n",
       "</table>\n",
       "</div>"
      ],
      "text/plain": [
       "   YEAR  MONTH  DAY_OF_MONTH  DAY_OF_WEEK     FL_DATE OP_UNIQUE_CARRIER  \\\n",
       "0  2020      3            16            1  2020-03-16                AA   \n",
       "1  2020      3            17            2  2020-03-17                AA   \n",
       "2  2020      3            18            3  2020-03-18                AA   \n",
       "3  2020      3            19            4  2020-03-19                AA   \n",
       "4  2020      3            20            5  2020-03-20                AA   \n",
       "\n",
       "   OP_CARRIER_FL_NUM  ORIGIN_AIRPORT_ID  ORIGIN_CITY_MARKET_ID  \\\n",
       "0                  8              12173                  32134   \n",
       "1                  8              12173                  32134   \n",
       "2                  8              12173                  32134   \n",
       "3                  8              12173                  32134   \n",
       "4                  8              12173                  32134   \n",
       "\n",
       "  ORIGIN_STATE_ABR  DEST_AIRPORT_ID  DEST_CITY_MARKET_ID DEST_STATE_ABR  \\\n",
       "0               HI            11298                30194             TX   \n",
       "1               HI            11298                30194             TX   \n",
       "2               HI            11298                30194             TX   \n",
       "3               HI            11298                30194             TX   \n",
       "4               HI            11298                30194             TX   \n",
       "\n",
       "  DEP_TIME  CANCELLED CANCELLATION_CODE  \n",
       "0   1757.0          0              None  \n",
       "1   1800.0          0              None  \n",
       "2   1759.0          0              None  \n",
       "3   1759.0          0              None  \n",
       "4   1833.0          0              None  "
      ]
     },
     "execution_count": 7,
     "metadata": {},
     "output_type": "execute_result"
    }
   ],
   "source": [
    "flightsdata.head()"
   ]
  },
  {
   "cell_type": "code",
   "execution_count": 8,
   "metadata": {},
   "outputs": [],
   "source": [
    "flightsdata.to_csv(\"allflightsdata.csv\", index = False, header = False)"
   ]
  },
  {
   "cell_type": "code",
   "execution_count": 11,
   "metadata": {},
   "outputs": [
    {
     "name": "stdout",
     "output_type": "stream",
     "text": [
      "Creating table....\n",
      "flights table is created....\n",
      "data inserted\n"
     ]
    }
   ],
   "source": [
    "if mydb.is_connected():\n",
    "    cursor = mydb.cursor()\n",
    "    cursor.execute(\"select database();\")\n",
    "    record = cursor.fetchone()\n",
    "    \n",
    "    # create table and insert 16 variables \n",
    "    cursor.execute('DROP TABLE IF EXISTS flights;')\n",
    "    print('Creating table....')\n",
    "    \n",
    "    cursor.execute(\"CREATE TABLE flights(year varchar(10), month varchar(10), day_of_month varchar(10), day_of_week varchar(10), fl_date varchar(10), op_unique_carrier varchar(10), op_carrier_fl_num varchar(10), origin_airport_id varchar(10), origin_city_id varchar(10), origin_state_abr varchar(10), dest_airport_id varchar(10), dest_city_id varchar(10), dest_state_abr varchar(10), dep_time varchar(10), cancelled varchar(10), cancellation_code varchar(10))\")\n",
    "    print(\"flights table is created....\") \n",
    "\n",
    "    # input csv files into table \n",
    "    for i, row in flightsdata.iterrows():\n",
    "        sql = \"INSERT INTO mydatabase.flights VALUES (%s, %s, %s, %s, %s, %s, %s, %s, %s, %s, %s, %s, %s, %s, %s, %s)\"\n",
    "        cursor.execute(sql, tuple(row))\n",
    "       # print(\"record inserted\")\n",
    "        mydb.commit()\n",
    "    cursor.close()\n",
    "    print(\"data inserted\")\n"
   ]
  },
  {
   "cell_type": "code",
   "execution_count": 13,
   "metadata": {},
   "outputs": [
    {
     "name": "stdout",
     "output_type": "stream",
     "text": [
      "7118895\n"
     ]
    }
   ],
   "source": [
    "print(len(flightsdata))"
   ]
  },
  {
   "cell_type": "code",
   "execution_count": 49,
   "metadata": {},
   "outputs": [
    {
     "name": "stdout",
     "output_type": "stream",
     "text": [
      "('cancelledflights',)\n",
      "('flights',)\n"
     ]
    },
    {
     "data": {
      "text/plain": [
       "True"
      ]
     },
     "execution_count": 49,
     "metadata": {},
     "output_type": "execute_result"
    }
   ],
   "source": [
    "cursor = mydb.cursor()\n",
    "cursor.execute(\"SHOW TABLES\")\n",
    "\n",
    "for x in cursor:\n",
    "  print(x)\n",
    "cursor.close()"
   ]
  },
  {
   "cell_type": "code",
   "execution_count": 57,
   "metadata": {},
   "outputs": [],
   "source": [
    "cursor.reset()"
   ]
  },
  {
   "cell_type": "code",
   "execution_count": 94,
   "metadata": {},
   "outputs": [],
   "source": [
    "cursor = mydb.cursor()\n",
    "cursor.execute(\"DROP TABLE IF EXISTS cancelledflights;\")"
   ]
  },
  {
   "cell_type": "code",
   "execution_count": 96,
   "metadata": {},
   "outputs": [
    {
     "data": {
      "text/plain": [
       "True"
      ]
     },
     "execution_count": 96,
     "metadata": {},
     "output_type": "execute_result"
    }
   ],
   "source": [
    "# table of only flights that were cancelled \n",
    "cursor = mydb.cursor()\n",
    "cursor.execute('''DROP TABLE IF EXISTS cancelledflights''')\n",
    "cursor.execute('''CREATE TABLE cancelledflights LIKE flights''')\n",
    "cursor.execute('''INSERT INTO cancelledflights \n",
    "SELECT * FROM flights WHERE cancelled = 1''')\n",
    "cursor.close()"
   ]
  },
  {
   "cell_type": "code",
   "execution_count": 99,
   "metadata": {},
   "outputs": [
    {
     "name": "stdout",
     "output_type": "stream",
     "text": [
      "(341106,)\n"
     ]
    },
    {
     "data": {
      "text/plain": [
       "True"
      ]
     },
     "execution_count": 99,
     "metadata": {},
     "output_type": "execute_result"
    }
   ],
   "source": [
    "cursor = mydb.cursor()\n",
    "sql = \"SELECT COUNT(*) FROM cancelledflights\"\n",
    "cursor.execute(sql)\n",
    "for x in cursor:\n",
    "  print(x)\n",
    "cursor.close()"
   ]
  },
  {
   "cell_type": "code",
   "execution_count": 100,
   "metadata": {},
   "outputs": [
    {
     "name": "stdout",
     "output_type": "stream",
     "text": [
      "(7118895,)\n"
     ]
    },
    {
     "data": {
      "text/plain": [
       "True"
      ]
     },
     "execution_count": 100,
     "metadata": {},
     "output_type": "execute_result"
    }
   ],
   "source": [
    "cursor = mydb.cursor()\n",
    "cursor.execute(\"SELECT COUNT(*) FROM flights\")\n",
    "for x in cursor:\n",
    "  print(x)\n",
    "cursor.close()"
   ]
  },
  {
   "cell_type": "code",
   "execution_count": 68,
   "metadata": {},
   "outputs": [
    {
     "name": "stdout",
     "output_type": "stream",
     "text": [
      "(27004,)\n"
     ]
    }
   ],
   "source": [
    "cursor = mydb.cursor()\n",
    "sql = \"SELECT COUNT(*) FROM grouped_state\"\n",
    "cursor.execute(sql)\n",
    "for x in cursor:\n",
    "  print(x)"
   ]
  },
  {
   "cell_type": "code",
   "execution_count": 102,
   "metadata": {},
   "outputs": [
    {
     "data": {
      "text/html": [
       "<div>\n",
       "<style scoped>\n",
       "    .dataframe tbody tr th:only-of-type {\n",
       "        vertical-align: middle;\n",
       "    }\n",
       "\n",
       "    .dataframe tbody tr th {\n",
       "        vertical-align: top;\n",
       "    }\n",
       "\n",
       "    .dataframe thead th {\n",
       "        text-align: right;\n",
       "    }\n",
       "</style>\n",
       "<table border=\"1\" class=\"dataframe\">\n",
       "  <thead>\n",
       "    <tr style=\"text-align: right;\">\n",
       "      <th></th>\n",
       "      <th>YEAR</th>\n",
       "      <th>MONTH</th>\n",
       "      <th>DAY_OF_MONTH</th>\n",
       "      <th>DAY_OF_WEEK</th>\n",
       "      <th>FL_DATE</th>\n",
       "      <th>OP_UNIQUE_CARRIER</th>\n",
       "      <th>OP_CARRIER_FL_NUM</th>\n",
       "      <th>ORIGIN_AIRPORT_ID</th>\n",
       "      <th>ORIGIN_CITY_MARKET_ID</th>\n",
       "      <th>ORIGIN_STATE_ABR</th>\n",
       "      <th>DEST_AIRPORT_ID</th>\n",
       "      <th>DEST_CITY_MARKET_ID</th>\n",
       "      <th>DEST_STATE_ABR</th>\n",
       "      <th>DEP_TIME</th>\n",
       "      <th>CANCELLED</th>\n",
       "      <th>CANCELLATION_CODE</th>\n",
       "    </tr>\n",
       "  </thead>\n",
       "  <tbody>\n",
       "    <tr>\n",
       "      <th>0</th>\n",
       "      <td>2020</td>\n",
       "      <td>3</td>\n",
       "      <td>16</td>\n",
       "      <td>1</td>\n",
       "      <td>2020-03-16</td>\n",
       "      <td>AA</td>\n",
       "      <td>8</td>\n",
       "      <td>12173</td>\n",
       "      <td>32134</td>\n",
       "      <td>HI</td>\n",
       "      <td>11298</td>\n",
       "      <td>30194</td>\n",
       "      <td>TX</td>\n",
       "      <td>1757.0</td>\n",
       "      <td>0</td>\n",
       "      <td>None</td>\n",
       "    </tr>\n",
       "    <tr>\n",
       "      <th>1</th>\n",
       "      <td>2020</td>\n",
       "      <td>3</td>\n",
       "      <td>17</td>\n",
       "      <td>2</td>\n",
       "      <td>2020-03-17</td>\n",
       "      <td>AA</td>\n",
       "      <td>8</td>\n",
       "      <td>12173</td>\n",
       "      <td>32134</td>\n",
       "      <td>HI</td>\n",
       "      <td>11298</td>\n",
       "      <td>30194</td>\n",
       "      <td>TX</td>\n",
       "      <td>1800.0</td>\n",
       "      <td>0</td>\n",
       "      <td>None</td>\n",
       "    </tr>\n",
       "    <tr>\n",
       "      <th>2</th>\n",
       "      <td>2020</td>\n",
       "      <td>3</td>\n",
       "      <td>18</td>\n",
       "      <td>3</td>\n",
       "      <td>2020-03-18</td>\n",
       "      <td>AA</td>\n",
       "      <td>8</td>\n",
       "      <td>12173</td>\n",
       "      <td>32134</td>\n",
       "      <td>HI</td>\n",
       "      <td>11298</td>\n",
       "      <td>30194</td>\n",
       "      <td>TX</td>\n",
       "      <td>1759.0</td>\n",
       "      <td>0</td>\n",
       "      <td>None</td>\n",
       "    </tr>\n",
       "    <tr>\n",
       "      <th>3</th>\n",
       "      <td>2020</td>\n",
       "      <td>3</td>\n",
       "      <td>19</td>\n",
       "      <td>4</td>\n",
       "      <td>2020-03-19</td>\n",
       "      <td>AA</td>\n",
       "      <td>8</td>\n",
       "      <td>12173</td>\n",
       "      <td>32134</td>\n",
       "      <td>HI</td>\n",
       "      <td>11298</td>\n",
       "      <td>30194</td>\n",
       "      <td>TX</td>\n",
       "      <td>1759.0</td>\n",
       "      <td>0</td>\n",
       "      <td>None</td>\n",
       "    </tr>\n",
       "    <tr>\n",
       "      <th>4</th>\n",
       "      <td>2020</td>\n",
       "      <td>3</td>\n",
       "      <td>20</td>\n",
       "      <td>5</td>\n",
       "      <td>2020-03-20</td>\n",
       "      <td>AA</td>\n",
       "      <td>8</td>\n",
       "      <td>12173</td>\n",
       "      <td>32134</td>\n",
       "      <td>HI</td>\n",
       "      <td>11298</td>\n",
       "      <td>30194</td>\n",
       "      <td>TX</td>\n",
       "      <td>1833.0</td>\n",
       "      <td>0</td>\n",
       "      <td>None</td>\n",
       "    </tr>\n",
       "  </tbody>\n",
       "</table>\n",
       "</div>"
      ],
      "text/plain": [
       "   YEAR  MONTH  DAY_OF_MONTH  DAY_OF_WEEK     FL_DATE OP_UNIQUE_CARRIER  \\\n",
       "0  2020      3            16            1  2020-03-16                AA   \n",
       "1  2020      3            17            2  2020-03-17                AA   \n",
       "2  2020      3            18            3  2020-03-18                AA   \n",
       "3  2020      3            19            4  2020-03-19                AA   \n",
       "4  2020      3            20            5  2020-03-20                AA   \n",
       "\n",
       "   OP_CARRIER_FL_NUM  ORIGIN_AIRPORT_ID  ORIGIN_CITY_MARKET_ID  \\\n",
       "0                  8              12173                  32134   \n",
       "1                  8              12173                  32134   \n",
       "2                  8              12173                  32134   \n",
       "3                  8              12173                  32134   \n",
       "4                  8              12173                  32134   \n",
       "\n",
       "  ORIGIN_STATE_ABR  DEST_AIRPORT_ID  DEST_CITY_MARKET_ID DEST_STATE_ABR  \\\n",
       "0               HI            11298                30194             TX   \n",
       "1               HI            11298                30194             TX   \n",
       "2               HI            11298                30194             TX   \n",
       "3               HI            11298                30194             TX   \n",
       "4               HI            11298                30194             TX   \n",
       "\n",
       "  DEP_TIME  CANCELLED CANCELLATION_CODE  \n",
       "0   1757.0          0              None  \n",
       "1   1800.0          0              None  \n",
       "2   1759.0          0              None  \n",
       "3   1759.0          0              None  \n",
       "4   1833.0          0              None  "
      ]
     },
     "execution_count": 102,
     "metadata": {},
     "output_type": "execute_result"
    }
   ],
   "source": [
    "flightsdata.head()"
   ]
  },
  {
   "cell_type": "code",
   "execution_count": 74,
   "metadata": {},
   "outputs": [],
   "source": [
    "cursor = mydb.cursor()\n",
    "cursor.execute(\"DROP TABLE IF EXISTS grouped_state\")\n",
    "cursor.execute(\"CREATE TABLE grouped_state LIKE flights\")\n",
    "cursor.execute(\"INSERT INTO grouped_state SELECT * FROM flights\")\n",
    "cursor.execute(\"SELECT dest_state_abr, fl_date, COUNT(*) FROM grouped_state GROUP BY dest_state_abr, fl_date\")"
   ]
  },
  {
   "cell_type": "code",
   "execution_count": 61,
   "metadata": {},
   "outputs": [],
   "source": [
    "cursor = mydb.cursor()\n",
    "cursor.execute(\"DROP TABLE IF EXISTS grouped_state\")\n",
    "cursor.execute(\"CREATE TABLE grouped_state LIKE flights\")\n",
    "cursor.execute(\"INSERT INTO grouped_state SELECT * FROM flights WHERE cancelled != 1\")\n",
    "cursor.execute(\"SELECT dest_state_abr, fl_date, COUNT(*) FROM grouped_state GROUP BY dest_state_abr, fl_date\")"
   ]
  },
  {
   "cell_type": "code",
   "execution_count": 105,
   "metadata": {},
   "outputs": [
    {
     "data": {
      "text/plain": [
       "True"
      ]
     },
     "execution_count": 105,
     "metadata": {},
     "output_type": "execute_result"
    }
   ],
   "source": [
    "cursor = mydb.cursor()\n",
    "cursor.execute(\"DROP TABLE IF EXISTS grouped_state\")\n",
    "cursor.execute('''CREATE TABLE grouped_state AS \n",
    "SELECT dest_state_abr, fl_date, COUNT(*) FROM flights WHERE cancelled != 1\n",
    "GROUP BY dest_state_abr, fl_date\n",
    "''')\n",
    "cursor.close()"
   ]
  },
  {
   "cell_type": "code",
   "execution_count": 106,
   "metadata": {},
   "outputs": [
    {
     "data": {
      "text/plain": [
       "True"
      ]
     },
     "execution_count": 106,
     "metadata": {},
     "output_type": "execute_result"
    }
   ],
   "source": [
    "cursor = mydb.cursor()\n",
    "cursor.execute(\"DROP TABLE IF EXISTS grouped_state_origin\")\n",
    "cursor.execute('''CREATE TABLE grouped_state_origin AS \n",
    "SELECT dest_state_abr, origin_state_abr, fl_date, COUNT(*) FROM flights WHERE cancelled != 1\n",
    "GROUP BY dest_state_abr, origin_state_abr, fl_date\n",
    "''')\n",
    "cursor.close()"
   ]
  },
  {
   "cell_type": "code",
   "execution_count": 12,
   "metadata": {},
   "outputs": [],
   "source": [
    "from sqlalchemy import create_engine\n",
    "import mysql.connector as connection "
   ]
  },
  {
   "cell_type": "code",
   "execution_count": 81,
   "metadata": {},
   "outputs": [],
   "source": [
    "mydbconn = connection.connect(host = \"localhost\", database = \"mydatabase\", user = \"root\", password = \"LasVegas1!\")\n",
    "sql = ('SELECT * FROM grouped_state;')\n",
    "grouped_state = pd.read_sql(sql, mydbconn)\n",
    "mydbconn.close()\n",
    "\n",
    "grouped_state.head()"
   ]
  },
  {
   "cell_type": "code",
   "execution_count": 109,
   "metadata": {},
   "outputs": [],
   "source": [
    "mydbconn = connection.connect(host = \"localhost\", database = \"mydatabase\", user = \"root\", password = \"LasVegas1!\")\n",
    "sql = ('SELECT * FROM grouped_state_origin;')\n",
    "grouped_state_origin = pd.read_sql(sql, mydbconn)\n",
    "mydbconn.close()"
   ]
  },
  {
   "cell_type": "code",
   "execution_count": 13,
   "metadata": {},
   "outputs": [],
   "source": [
    "mydbconn = connection.connect(host = \"localhost\", database = \"mydatabase\", user = \"root\", password = \"LasVegas1!\")\n",
    "sql = ('SELECT dest_state_abr, origin_state_abr, fl_date FROM flights;')\n",
    "allflightsdata = pd.read_sql(sql, mydbconn)\n",
    "mydbconn.close()"
   ]
  },
  {
   "cell_type": "code",
   "execution_count": 110,
   "metadata": {},
   "outputs": [
    {
     "data": {
      "text/html": [
       "<div>\n",
       "<style scoped>\n",
       "    .dataframe tbody tr th:only-of-type {\n",
       "        vertical-align: middle;\n",
       "    }\n",
       "\n",
       "    .dataframe tbody tr th {\n",
       "        vertical-align: top;\n",
       "    }\n",
       "\n",
       "    .dataframe thead th {\n",
       "        text-align: right;\n",
       "    }\n",
       "</style>\n",
       "<table border=\"1\" class=\"dataframe\">\n",
       "  <thead>\n",
       "    <tr style=\"text-align: right;\">\n",
       "      <th></th>\n",
       "      <th>dest_state_abr</th>\n",
       "      <th>origin_state_abr</th>\n",
       "      <th>fl_date</th>\n",
       "      <th>COUNT(*)</th>\n",
       "    </tr>\n",
       "  </thead>\n",
       "  <tbody>\n",
       "    <tr>\n",
       "      <th>0</th>\n",
       "      <td>TX</td>\n",
       "      <td>HI</td>\n",
       "      <td>2020-03-16</td>\n",
       "      <td>6</td>\n",
       "    </tr>\n",
       "    <tr>\n",
       "      <th>1</th>\n",
       "      <td>TX</td>\n",
       "      <td>HI</td>\n",
       "      <td>2020-03-17</td>\n",
       "      <td>5</td>\n",
       "    </tr>\n",
       "    <tr>\n",
       "      <th>2</th>\n",
       "      <td>TX</td>\n",
       "      <td>HI</td>\n",
       "      <td>2020-03-18</td>\n",
       "      <td>6</td>\n",
       "    </tr>\n",
       "    <tr>\n",
       "      <th>3</th>\n",
       "      <td>TX</td>\n",
       "      <td>HI</td>\n",
       "      <td>2020-03-19</td>\n",
       "      <td>6</td>\n",
       "    </tr>\n",
       "    <tr>\n",
       "      <th>4</th>\n",
       "      <td>TX</td>\n",
       "      <td>HI</td>\n",
       "      <td>2020-03-20</td>\n",
       "      <td>6</td>\n",
       "    </tr>\n",
       "  </tbody>\n",
       "</table>\n",
       "</div>"
      ],
      "text/plain": [
       "  dest_state_abr origin_state_abr     fl_date  COUNT(*)\n",
       "0             TX               HI  2020-03-16         6\n",
       "1             TX               HI  2020-03-17         5\n",
       "2             TX               HI  2020-03-18         6\n",
       "3             TX               HI  2020-03-19         6\n",
       "4             TX               HI  2020-03-20         6"
      ]
     },
     "execution_count": 110,
     "metadata": {},
     "output_type": "execute_result"
    }
   ],
   "source": [
    "grouped_state_origin.head()"
   ]
  },
  {
   "cell_type": "code",
   "execution_count": 111,
   "metadata": {},
   "outputs": [],
   "source": [
    "grouped_state_origin.to_csv(\"grouped_state_origin.csv\", index = False, header = False)"
   ]
  },
  {
   "cell_type": "code",
   "execution_count": 90,
   "metadata": {},
   "outputs": [],
   "source": [
    "grouped_state.to_csv(\"grouped_state3.csv\", index = False, header = False)"
   ]
  },
  {
   "cell_type": "code",
   "execution_count": 14,
   "metadata": {},
   "outputs": [],
   "source": [
    "allflightsdata.to_csv(\"allflightsdata2.csv\")"
   ]
  }
 ],
 "metadata": {
  "kernelspec": {
   "display_name": "Python 3",
   "language": "python",
   "name": "python3"
  },
  "language_info": {
   "codemirror_mode": {
    "name": "ipython",
    "version": 3
   },
   "file_extension": ".py",
   "mimetype": "text/x-python",
   "name": "python",
   "nbconvert_exporter": "python",
   "pygments_lexer": "ipython3",
   "version": "3.8.8"
  }
 },
 "nbformat": 4,
 "nbformat_minor": 2
}
